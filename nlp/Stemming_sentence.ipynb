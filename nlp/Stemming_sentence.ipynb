{
  "nbformat": 4,
  "nbformat_minor": 0,
  "metadata": {
    "colab": {
      "provenance": []
    },
    "kernelspec": {
      "name": "python3",
      "display_name": "Python 3"
    },
    "language_info": {
      "name": "python"
    }
  },
  "cells": [
    {
      "cell_type": "code",
      "execution_count": 23,
      "metadata": {
        "colab": {
          "base_uri": "https://localhost:8080/"
        },
        "id": "ogYZNDufK7RY",
        "outputId": "1ecda7d9-d80c-4fc6-f7cb-daa556cf0397"
      },
      "outputs": [
        {
          "output_type": "stream",
          "name": "stderr",
          "text": [
            "[nltk_data] Downloading package punkt to /root/nltk_data...\n",
            "[nltk_data]   Package punkt is already up-to-date!\n"
          ]
        },
        {
          "output_type": "execute_result",
          "data": {
            "text/plain": [
              "True"
            ]
          },
          "metadata": {},
          "execution_count": 23
        }
      ],
      "source": [
        "import nltk\n",
        "from nltk.stem import PorterStemmer\n",
        "a=PorterStemmer()\n",
        "from nltk.tokenize import word_tokenize\n",
        "nltk.download('punkt')"
      ]
    },
    {
      "cell_type": "code",
      "source": [
        "print(a.stem(\"running\"))"
      ],
      "metadata": {
        "colab": {
          "base_uri": "https://localhost:8080/"
        },
        "id": "85oxYHFxMNn3",
        "outputId": "e779d89b-cc96-45e5-b69f-deccb9322340"
      },
      "execution_count": 24,
      "outputs": [
        {
          "output_type": "stream",
          "name": "stdout",
          "text": [
            "run\n"
          ]
        }
      ]
    },
    {
      "cell_type": "code",
      "source": [
        "text =\"Tokenization is the process of breaking is aiming( & string into tokens. Commonly, these tokens are words, numbers, and/or punctuation. The tensorflow_textpackage provides a number of tokenizers available for preprocessing text required by your text-based models. By performing the tokenization in the TensorFlow graph, you will not need to worry\"\n",
        "b=word_tokenize(text)\n",
        "c=[a.stem(x) for x in b ]\n",
        "d=' '\n",
        "print(d.join(c))\n",
        "print(c)\n"
      ],
      "metadata": {
        "colab": {
          "base_uri": "https://localhost:8080/"
        },
        "id": "FN7GQ1QEMgJ9",
        "outputId": "1c858a7b-ecd5-4966-95f1-e82ce78f78cb"
      },
      "execution_count": 25,
      "outputs": [
        {
          "output_type": "stream",
          "name": "stdout",
          "text": [
            "token is the process of break is aim ( & string into token . commonli , these token are word , number , and/or punctuat . the tensorflow_textpackag provid a number of token avail for preprocess text requir by your text-bas model . by perform the token in the tensorflow graph , you will not need to worri\n",
            "['token', 'is', 'the', 'process', 'of', 'break', 'is', 'aim', '(', '&', 'string', 'into', 'token', '.', 'commonli', ',', 'these', 'token', 'are', 'word', ',', 'number', ',', 'and/or', 'punctuat', '.', 'the', 'tensorflow_textpackag', 'provid', 'a', 'number', 'of', 'token', 'avail', 'for', 'preprocess', 'text', 'requir', 'by', 'your', 'text-bas', 'model', '.', 'by', 'perform', 'the', 'token', 'in', 'the', 'tensorflow', 'graph', ',', 'you', 'will', 'not', 'need', 'to', 'worri']\n"
          ]
        }
      ]
    }
  ]
}