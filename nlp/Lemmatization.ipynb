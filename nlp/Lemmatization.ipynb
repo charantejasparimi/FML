{
  "nbformat": 4,
  "nbformat_minor": 0,
  "metadata": {
    "colab": {
      "provenance": []
    },
    "kernelspec": {
      "name": "python3",
      "display_name": "Python 3"
    },
    "language_info": {
      "name": "python"
    }
  },
  "cells": [
    {
      "cell_type": "code",
      "execution_count": 38,
      "metadata": {
        "colab": {
          "base_uri": "https://localhost:8080/"
        },
        "id": "rfEXOxyrQ6UX",
        "outputId": "630ad877-5d2e-439d-9871-e6cdc6afb551"
      },
      "outputs": [
        {
          "output_type": "stream",
          "name": "stderr",
          "text": [
            "[nltk_data] Downloading package wordnet to /root/nltk_data...\n",
            "[nltk_data]   Package wordnet is already up-to-date!\n",
            "[nltk_data] Downloading package wordnet to /root/nltk_data...\n",
            "[nltk_data]   Package wordnet is already up-to-date!\n"
          ]
        },
        {
          "output_type": "execute_result",
          "data": {
            "text/plain": [
              "True"
            ]
          },
          "metadata": {},
          "execution_count": 38
        }
      ],
      "source": [
        "import nltk \n",
        "from nltk.tokenize import word_tokenize\n",
        "nltk.download('wordnet')\n",
        "import nltk\n",
        "from nltk.stem import WordNetLemmatizer\n",
        "a = WordNetLemmatizer()\n",
        "nltk.download('wordnet')\n"
      ]
    },
    {
      "cell_type": "code",
      "source": [
        "print(a.lemmatize(\"better\",pos='a'))\n",
        "print(a.lemmatize(\"running\",pos='v'))"
      ],
      "metadata": {
        "colab": {
          "base_uri": "https://localhost:8080/"
        },
        "id": "futTwRhVSOKD",
        "outputId": "86626c03-b732-417b-f85e-591a3e9096dd"
      },
      "execution_count": 39,
      "outputs": [
        {
          "output_type": "stream",
          "name": "stdout",
          "text": [
            "good\n",
            "run\n"
          ]
        }
      ]
    },
    {
      "cell_type": "code",
      "source": [
        "text =\"He was running and eating at same time. He has bad habit of swimming after playing long hours in the Sun.\"\n",
        "b=word_tokenize(text)\n",
        "c=[a.lemmatize(x,pos=\"v\") for x in b ]\n",
        "print(c)\n",
        "d=[a.lemmatize(x) for x in b ]\n",
        "print(d)"
      ],
      "metadata": {
        "colab": {
          "base_uri": "https://localhost:8080/"
        },
        "id": "-xC_AiEDWhTY",
        "outputId": "0652945b-176b-453b-a73b-4d9d47fd1053"
      },
      "execution_count": 40,
      "outputs": [
        {
          "output_type": "stream",
          "name": "stdout",
          "text": [
            "['He', 'be', 'run', 'and', 'eat', 'at', 'same', 'time', '.', 'He', 'have', 'bad', 'habit', 'of', 'swim', 'after', 'play', 'long', 'hours', 'in', 'the', 'Sun', '.']\n",
            "['He', 'wa', 'running', 'and', 'eating', 'at', 'same', 'time', '.', 'He', 'ha', 'bad', 'habit', 'of', 'swimming', 'after', 'playing', 'long', 'hour', 'in', 'the', 'Sun', '.']\n"
          ]
        }
      ]
    }
  ]
}