{
  "nbformat": 4,
  "nbformat_minor": 0,
  "metadata": {
    "colab": {
      "provenance": []
    },
    "kernelspec": {
      "name": "python3",
      "display_name": "Python 3"
    },
    "language_info": {
      "name": "python"
    }
  },
  "cells": [
    {
      "cell_type": "code",
      "source": [
        "from google.colab import drive\n",
        "drive.mount('/content/drive')"
      ],
      "metadata": {
        "id": "vpkzc9pSz0FH",
        "colab": {
          "base_uri": "https://localhost:8080/"
        },
        "outputId": "ac81aad4-d10c-4d3e-b346-503efa78978d"
      },
      "execution_count": 134,
      "outputs": [
        {
          "output_type": "stream",
          "name": "stdout",
          "text": [
            "Drive already mounted at /content/drive; to attempt to forcibly remount, call drive.mount(\"/content/drive\", force_remount=True).\n"
          ]
        }
      ]
    },
    {
      "cell_type": "code",
      "source": [
        "import numpy as np\n",
        "import matplotlib.pyplot as plt"
      ],
      "metadata": {
        "id": "0W9cHGJD1dtP"
      },
      "execution_count": 135,
      "outputs": []
    },
    {
      "cell_type": "code",
      "source": [
        "data=np.loadtxt('/content/drive/MyDrive/Datasets ML/LinearRegressiondata_of_1_feature.csv',delimiter=',')\n",
        "data.shape"
      ],
      "metadata": {
        "colab": {
          "base_uri": "https://localhost:8080/"
        },
        "id": "djA0rBlZ1i84",
        "outputId": "ef168d57-9922-444b-9c14-c0a5e05e2e51"
      },
      "execution_count": 149,
      "outputs": [
        {
          "output_type": "execute_result",
          "data": {
            "text/plain": [
              "(100, 2)"
            ]
          },
          "metadata": {},
          "execution_count": 149
        }
      ]
    },
    {
      "cell_type": "code",
      "source": [
        "from sklearn import model_selection\n",
        "X_train,X_test,Y_train,Y_test =model_selection.train_test_split(x,y,test_size=0.15,random_state=2)   \n",
        "X_train.shape,X_test.shape  "
      ],
      "metadata": {
        "colab": {
          "base_uri": "https://localhost:8080/"
        },
        "id": "YyfaEHYI28i9",
        "outputId": "9aa37f5b-9c3b-493d-fa01-7b857c8931c7"
      },
      "execution_count": 151,
      "outputs": [
        {
          "output_type": "execute_result",
          "data": {
            "text/plain": [
              "((85, 1), (15, 1))"
            ]
          },
          "metadata": {},
          "execution_count": 151
        }
      ]
    },
    {
      "cell_type": "code",
      "source": [
        "a=data[:,0].reshape(-1,1)\n",
        "b=data[:,1].reshape(-1,1)\n",
        "a.shape,b.shape"
      ],
      "metadata": {
        "colab": {
          "base_uri": "https://localhost:8080/"
        },
        "id": "ZYyF3x_2_CLU",
        "outputId": "fd102c97-a47e-4cbc-d0fd-d5787c799afd"
      },
      "execution_count": 138,
      "outputs": [
        {
          "output_type": "execute_result",
          "data": {
            "text/plain": [
              "((100, 1), (100, 1))"
            ]
          },
          "metadata": {},
          "execution_count": 138
        }
      ]
    },
    {
      "cell_type": "code",
      "source": [
        "# function to find out m and c\n",
        "def find_m_and_c(x,y):\n",
        "  n=(x*y).mean()-x.mean()*y.mean()\n",
        "  d=(x**2).mean()-x.mean()*x.mean()\n",
        "  m=n/d\n",
        "  c=y.mean()-m*x.mean()\n",
        "  return (m,c)\n",
        "\n",
        "def pred(x,m,c):\n",
        "  return m*x+c\n",
        "\n",
        "# score \n",
        "def cd(ypred,ytrue):\n",
        "  u=((ytrue-ypred)**2).sum()\n",
        "  v=((ytrue-ytrue.mean())**2).sum()\n",
        "  return 1-(u/v)\n",
        "\n",
        "# cost function\n",
        "def min_cost(x,y,m,c):\n",
        "    return ((y - m * x - c)**2).mean()"
      ],
      "metadata": {
        "id": "eabgqPUEA7AD"
      },
      "execution_count": 150,
      "outputs": []
    },
    {
      "cell_type": "code",
      "source": [
        "# find m and c values\n",
        "m,c=find_m_and_c(X_train,Y_train)\n",
        "y_prediction1=pred(X_train,m,c)\n",
        "y_prediction2=pred(X_test,m,c)\n",
        "score1=cd(y_prediction1,Y_train)\n",
        "score2=cd(y_prediction2,Y_test)\n",
        "cost_func=min_cost(X_train,Y_train,m,c)\n",
        "\n",
        "print('slope=',m,'\\nintercept=',c)\n",
        "print('score for test data =',score2,'\\nscore for train data  =',score1,'\\ncost function =',cost_func)\n"
      ],
      "metadata": {
        "colab": {
          "base_uri": "https://localhost:8080/"
        },
        "id": "avphOkmr_f4q",
        "outputId": "05ee209c-479f-46b4-ed16-d9f413b8d26a"
      },
      "execution_count": 140,
      "outputs": [
        {
          "output_type": "stream",
          "name": "stdout",
          "text": [
            "slope= 1.3566692045318893 \n",
            "intercept= 6.465454168837098\n",
            "score for test data = 0.522077586544099 \n",
            "score for train data  = 0.6168383273435538 \n",
            "cost function = 98.42431103586944\n"
          ]
        }
      ]
    },
    {
      "cell_type": "code",
      "source": [
        "x=data[:,0].reshape(-1,1)\n",
        "y=data[:,1].reshape(-1,1)\n",
        "x.shape,y.shape"
      ],
      "metadata": {
        "colab": {
          "base_uri": "https://localhost:8080/"
        },
        "id": "YH6DykFk2Tyg",
        "outputId": "eef219ee-b4da-412b-f330-2f32bf6ee6ef"
      },
      "execution_count": 141,
      "outputs": [
        {
          "output_type": "execute_result",
          "data": {
            "text/plain": [
              "((100, 1), (100, 1))"
            ]
          },
          "metadata": {},
          "execution_count": 141
        }
      ]
    },
    {
      "cell_type": "code",
      "source": [
        "from sklearn.linear_model import LinearRegression\n",
        "alg=LinearRegression()\n",
        "alg.fit(X_train,Y_train)"
      ],
      "metadata": {
        "colab": {
          "base_uri": "https://localhost:8080/",
          "height": 74
        },
        "id": "zNqDTRnX3-YG",
        "outputId": "5dbc27ae-3220-406f-bcdb-7c84d72a10b4"
      },
      "execution_count": 142,
      "outputs": [
        {
          "output_type": "execute_result",
          "data": {
            "text/plain": [
              "LinearRegression()"
            ],
            "text/html": [
              "<style>#sk-container-id-4 {color: black;background-color: white;}#sk-container-id-4 pre{padding: 0;}#sk-container-id-4 div.sk-toggleable {background-color: white;}#sk-container-id-4 label.sk-toggleable__label {cursor: pointer;display: block;width: 100%;margin-bottom: 0;padding: 0.3em;box-sizing: border-box;text-align: center;}#sk-container-id-4 label.sk-toggleable__label-arrow:before {content: \"▸\";float: left;margin-right: 0.25em;color: #696969;}#sk-container-id-4 label.sk-toggleable__label-arrow:hover:before {color: black;}#sk-container-id-4 div.sk-estimator:hover label.sk-toggleable__label-arrow:before {color: black;}#sk-container-id-4 div.sk-toggleable__content {max-height: 0;max-width: 0;overflow: hidden;text-align: left;background-color: #f0f8ff;}#sk-container-id-4 div.sk-toggleable__content pre {margin: 0.2em;color: black;border-radius: 0.25em;background-color: #f0f8ff;}#sk-container-id-4 input.sk-toggleable__control:checked~div.sk-toggleable__content {max-height: 200px;max-width: 100%;overflow: auto;}#sk-container-id-4 input.sk-toggleable__control:checked~label.sk-toggleable__label-arrow:before {content: \"▾\";}#sk-container-id-4 div.sk-estimator input.sk-toggleable__control:checked~label.sk-toggleable__label {background-color: #d4ebff;}#sk-container-id-4 div.sk-label input.sk-toggleable__control:checked~label.sk-toggleable__label {background-color: #d4ebff;}#sk-container-id-4 input.sk-hidden--visually {border: 0;clip: rect(1px 1px 1px 1px);clip: rect(1px, 1px, 1px, 1px);height: 1px;margin: -1px;overflow: hidden;padding: 0;position: absolute;width: 1px;}#sk-container-id-4 div.sk-estimator {font-family: monospace;background-color: #f0f8ff;border: 1px dotted black;border-radius: 0.25em;box-sizing: border-box;margin-bottom: 0.5em;}#sk-container-id-4 div.sk-estimator:hover {background-color: #d4ebff;}#sk-container-id-4 div.sk-parallel-item::after {content: \"\";width: 100%;border-bottom: 1px solid gray;flex-grow: 1;}#sk-container-id-4 div.sk-label:hover label.sk-toggleable__label {background-color: #d4ebff;}#sk-container-id-4 div.sk-serial::before {content: \"\";position: absolute;border-left: 1px solid gray;box-sizing: border-box;top: 0;bottom: 0;left: 50%;z-index: 0;}#sk-container-id-4 div.sk-serial {display: flex;flex-direction: column;align-items: center;background-color: white;padding-right: 0.2em;padding-left: 0.2em;position: relative;}#sk-container-id-4 div.sk-item {position: relative;z-index: 1;}#sk-container-id-4 div.sk-parallel {display: flex;align-items: stretch;justify-content: center;background-color: white;position: relative;}#sk-container-id-4 div.sk-item::before, #sk-container-id-4 div.sk-parallel-item::before {content: \"\";position: absolute;border-left: 1px solid gray;box-sizing: border-box;top: 0;bottom: 0;left: 50%;z-index: -1;}#sk-container-id-4 div.sk-parallel-item {display: flex;flex-direction: column;z-index: 1;position: relative;background-color: white;}#sk-container-id-4 div.sk-parallel-item:first-child::after {align-self: flex-end;width: 50%;}#sk-container-id-4 div.sk-parallel-item:last-child::after {align-self: flex-start;width: 50%;}#sk-container-id-4 div.sk-parallel-item:only-child::after {width: 0;}#sk-container-id-4 div.sk-dashed-wrapped {border: 1px dashed gray;margin: 0 0.4em 0.5em 0.4em;box-sizing: border-box;padding-bottom: 0.4em;background-color: white;}#sk-container-id-4 div.sk-label label {font-family: monospace;font-weight: bold;display: inline-block;line-height: 1.2em;}#sk-container-id-4 div.sk-label-container {text-align: center;}#sk-container-id-4 div.sk-container {/* jupyter's `normalize.less` sets `[hidden] { display: none; }` but bootstrap.min.css set `[hidden] { display: none !important; }` so we also need the `!important` here to be able to override the default hidden behavior on the sphinx rendered scikit-learn.org. See: https://github.com/scikit-learn/scikit-learn/issues/21755 */display: inline-block !important;position: relative;}#sk-container-id-4 div.sk-text-repr-fallback {display: none;}</style><div id=\"sk-container-id-4\" class=\"sk-top-container\"><div class=\"sk-text-repr-fallback\"><pre>LinearRegression()</pre><b>In a Jupyter environment, please rerun this cell to show the HTML representation or trust the notebook. <br />On GitHub, the HTML representation is unable to render, please try loading this page with nbviewer.org.</b></div><div class=\"sk-container\" hidden><div class=\"sk-item\"><div class=\"sk-estimator sk-toggleable\"><input class=\"sk-toggleable__control sk-hidden--visually\" id=\"sk-estimator-id-4\" type=\"checkbox\" checked><label for=\"sk-estimator-id-4\" class=\"sk-toggleable__label sk-toggleable__label-arrow\">LinearRegression</label><div class=\"sk-toggleable__content\"><pre>LinearRegression()</pre></div></div></div></div></div>"
            ]
          },
          "metadata": {},
          "execution_count": 142
        }
      ]
    },
    {
      "cell_type": "code",
      "source": [
        "alg.coef_,alg.intercept_"
      ],
      "metadata": {
        "colab": {
          "base_uri": "https://localhost:8080/"
        },
        "id": "24Fshz1O5R0c",
        "outputId": "6518e996-2d1a-4645-fd5c-f4f3b32b2398"
      },
      "execution_count": 143,
      "outputs": [
        {
          "output_type": "execute_result",
          "data": {
            "text/plain": [
              "(array([[1.3566692]]), array([6.46545417]))"
            ]
          },
          "metadata": {},
          "execution_count": 143
        }
      ]
    },
    {
      "cell_type": "code",
      "source": [
        "mm=alg.coef_[0][0]\n",
        "cc=alg.intercept_[0]"
      ],
      "metadata": {
        "id": "GA-NlgTM5cUh"
      },
      "execution_count": 144,
      "outputs": []
    },
    {
      "cell_type": "code",
      "source": [
        "p=np.arange(0,100,0.1)\n",
        "plt.plot(p,p*mm+cc,'black')\n",
        "plt.scatter(X_train.reshape(85),Y_train.reshape(85))\n",
        "plt.scatter(X_train,alg.predict(X_train).reshape(85)) \n",
        "plt.show()"
      ],
      "metadata": {
        "colab": {
          "base_uri": "https://localhost:8080/",
          "height": 430
        },
        "id": "CnFeTvGk5ceY",
        "outputId": "2c9e4e69-77d7-43dc-9945-ab74f4e14d57"
      },
      "execution_count": 145,
      "outputs": [
        {
          "output_type": "display_data",
          "data": {
            "text/plain": [
              "<Figure size 640x480 with 1 Axes>"
            ],
            "image/png": "[encoded data removed]"
          },
          "metadata": {}
        }
      ]
    },
    {
      "cell_type": "code",
      "source": [
        "p=np.arange(0,100,1)\n",
        "plt.plot(p,p*m+c,'black')\n",
        "plt.scatter(X_test.reshape(15),Y_test.reshape(15))\n",
        "plt.show()"
      ],
      "metadata": {
        "colab": {
          "base_uri": "https://localhost:8080/",
          "height": 430
        },
        "id": "wPT_nQdZ83Pk",
        "outputId": "05028319-ebbd-4db7-9961-252ef11f2425"
      },
      "execution_count": 146,
      "outputs": [
        {
          "output_type": "display_data",
          "data": {
            "text/plain": [
              "<Figure size 640x480 with 1 Axes>"
            ],
            "image/png": "[encoded data removed]"
          },
          "metadata": {}
        }
      ]
    },
    {
      "cell_type": "code",
      "source": [
        "# Predefined function for Linear Regression \n",
        "print('slope=',mm,'\\nintercept=',cc)\n",
        "print('score for test data =',alg.score(X_test,Y_test),'\\nscore for train data',alg.score(X_train,Y_train))\n"
      ],
      "metadata": {
        "colab": {
          "base_uri": "https://localhost:8080/"
        },
        "id": "JIhLIGpfRVQU",
        "outputId": "7ca60318-24eb-4c96-edd3-32cea1e026da"
      },
      "execution_count": 147,
      "outputs": [
        {
          "output_type": "stream",
          "name": "stdout",
          "text": [
            "slope= 1.3566692045318862 \n",
            "intercept= 6.465454168837255\n",
            "score for test data = 0.5220775865440996 \n",
            "score for train data 0.6168383273435538\n"
          ]
        }
      ]
    },
    {
      "cell_type": "code",
      "source": [
        "# user defined function for  linear regression \n",
        "m,c=find_m_and_c(X_train,Y_train)\n",
        "y_prediction1=pred(X_train,m,c)\n",
        "y_prediction2=pred(X_test,m,c)\n",
        "score1=cd(y_prediction1,Y_train)\n",
        "score2=cd(y_prediction2,Y_test)\n",
        "cost_func=min_cost(X_train,Y_train,m,c)\n",
        "\n",
        "print('slope=',m,'\\nintercept=',c)\n",
        "print('score for test data =',score2,'\\nscore for train data  =',score1,'\\ncost function =',cost_func)\n"
      ],
      "metadata": {
        "colab": {
          "base_uri": "https://localhost:8080/"
        },
        "id": "NEd7MBXIUFNN",
        "outputId": "174e7de4-fb14-4ee8-bde3-70082aa48c57"
      },
      "execution_count": 148,
      "outputs": [
        {
          "output_type": "stream",
          "name": "stdout",
          "text": [
            "slope= 1.3566692045318893 \n",
            "intercept= 6.465454168837098\n",
            "score for test data = 0.522077586544099 \n",
            "score for train data  = 0.6168383273435538 \n",
            "cost function = 98.42431103586944\n"
          ]
        }
      ]
    }
  ]
}